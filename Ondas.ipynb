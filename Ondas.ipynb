{
 "cells": [
  {
   "cell_type": "code",
   "execution_count": 35,
   "id": "9f7d2fd3-3281-46e6-93f7-fc34ce5aee11",
   "metadata": {},
   "outputs": [
    {
     "data": {
      "application/vnd.jupyter.widget-view+json": {
       "model_id": "10c8dee58596462cb341515bf91f47e8",
       "version_major": 2,
       "version_minor": 0
      },
      "text/plain": [
       "interactive(children=(IntSlider(value=5, description='No_ondas', max=10, min=1), Select(description='cmap', op…"
      ]
     },
     "metadata": {},
     "output_type": "display_data"
    }
   ],
   "source": [
    "import ipywidgets as pw\n",
    "import numpy as np\n",
    "import matplotlib.pyplot as plt\n",
    "from IPython.display import display, clear_output\n",
    "no_points = 200\n",
    "x = np.linspace(0, 10, no_points)\n",
    "y = np.linspace(0, 10, no_points)\n",
    "x, y = np.meshgrid(x, y)\n",
    "class onda():\n",
    "  def __init__(self, x, y):\n",
    "    # self.x = x\n",
    "    # self.y = y\n",
    "    self.Lx = x.max()\n",
    "    self.Ly = y.max()\n",
    "    self._set_widget_controls()\n",
    "  def _get_widgets(self):\n",
    "    self.nx = pw.IntSlider(min = 1, max = 10, step = 1 , value = 1, description = 'nx')\n",
    "    self.ny = pw.IntSlider(min = 1, max = 10, step = 1 , value = 1, description = 'ny')\n",
    "    self.Amplitud = pw.FloatSlider(min = -1, max = 1, step = .25, value = 0, description = 'Amplitud')\n",
    "    return {'nx' : self.nx, 'ny': self.ny, 'Amplitud' : self.Amplitud}\n",
    "  def __call__(self, x, y, t, tension=1, masa=1) :\n",
    "    kx = self.nx.value*np.pi/self.Lx\n",
    "    ky = self.ny.value*np.pi/self.Ly\n",
    "    k = (kx**2+ky**2)**.5\n",
    "    v = (tension/masa)**.5\n",
    "    omega = v*k\n",
    "    self.frecuencia = omega/(2*np.pi)\n",
    "    return self.Amplitud.value*np.cos(omega*t/10)*np.sin(kx*x)*np.sin(ky*y)\n",
    "  def _set_widget_controls(self):\n",
    "      self.controles = self._get_widgets()\n",
    "      self.panel_control_widget = pw.VBox([key for val, key in self.controles.items()])\n",
    "\n",
    "# fig, ax = plt.subplots()\n",
    "# display((pw.interactive(w1._funcion_interactiva(x, 0, ax), w1.controles)).children[-1], w1.menu)\n",
    "MAX_NO_ONDAS = 10\n",
    "ondas = [onda(x, y) for n in range(MAX_NO_ONDAS)]\n",
    "ondas[0].Amplitud.set_trait('value',1)\n",
    "No_ondas = pw.IntSlider(min = 1, max = MAX_NO_ONDAS, value = 5, step = 1)\n",
    "cmap = pw.Select( value = 'jet', options = ['jet', 'gray', 'hot', 'bwr'])\n",
    "def plot_ondas(No_ondas, cmap = 'jet'):\n",
    "    surf = 0*x\n",
    "    acordeon = pw.Accordion(children= [w.panel_control_widget for w in ondas[:No_ondas]], titles = [f'Onda #{index+1}' for index in range(No_ondas)])\n",
    "    Tiempo = pw.Play(value=0,min=0,max=10000,step=2,interval=250,disabled=False)\n",
    "    slider = pw.IntSlider(description = 'Tiempo')\n",
    "    pw.jslink((Tiempo, 'value'), (slider, 'value'))\n",
    "    # pw.HBox([play, slider])\n",
    "    output = pw.interactive_output(lambda Tiempo : (plt.pcolormesh(x, y, sum([w(x, y, Tiempo) for w in ondas[:No_ondas]]), vmax =1, vmin = -1, cmap = cmap), plt.annotate('\\n'.join([f'$F_{{ {index+1} }} = {np.round(w.frecuencia, 2)}Hz$' for index, w in enumerate(ondas[:No_ondas])]), xy = (10,0)), plt.show()), {'Tiempo': Tiempo})\n",
    "    control = pw.HBox([acordeon,Tiempo])\n",
    "    display(slider, pw.HBox([output, control]))\n",
    "if __name__ == '__main__':\n",
    "    pw.interact(plot_ondas, No_ondas = No_ondas, cmap = cmap)\n"
   ]
  },
  {
   "cell_type": "code",
   "execution_count": null,
   "id": "f00b9471-728b-49a0-9473-aafa14402c67",
   "metadata": {},
   "outputs": [],
   "source": []
  }
 ],
 "metadata": {
  "kernelspec": {
   "display_name": "Python 3 (ipykernel)",
   "language": "python",
   "name": "python3"
  },
  "language_info": {
   "codemirror_mode": {
    "name": "ipython",
    "version": 3
   },
   "file_extension": ".py",
   "mimetype": "text/x-python",
   "name": "python",
   "nbconvert_exporter": "python",
   "pygments_lexer": "ipython3",
   "version": "3.10.10"
  }
 },
 "nbformat": 4,
 "nbformat_minor": 5
}
